{
 "cells": [
  {
   "cell_type": "code",
   "execution_count": 1,
   "metadata": {},
   "outputs": [],
   "source": [
    "# import necessary packages\n",
    "import pandas as pd\n",
    "from datetime import datetime"
   ]
  },
  {
   "cell_type": "markdown",
   "metadata": {},
   "source": [
    "#### Fund Managers"
   ]
  },
  {
   "cell_type": "code",
   "execution_count": 2,
   "metadata": {},
   "outputs": [],
   "source": [
    "# loading data of fund managers\n",
    "# data source: iFind\n",
    "# simple processing with Excel has been done\n",
    "data_managers_raw = pd.read_excel(r\"C:\\Users\\lzc19\\Desktop\\PHBS 24-25 Fall II\\ADA\\Project\\Data\\Data_Exceled\\ADA_Data_Fund_Manager.xlsx\")"
   ]
  },
  {
   "cell_type": "code",
   "execution_count": 3,
   "metadata": {},
   "outputs": [],
   "source": [
    "# copy first\n",
    "data_managers = data_managers_raw.copy()\n",
    "\n",
    "# nominal to numerical\n",
    "data_managers['manager_edu_num'] = [0 if i == '本科' else (1 if i == '硕士' else 2)for i in data_managers['manager_edu']]  \n",
    "data_managers['female'] = [0 if i == '男' else 1 for i in data_managers['manager_gender']]  # nominal to numerical\n",
    "\n",
    "# transform and calculate working experience(days)\n",
    "end = datetime(2024, 12, 31)\n",
    "data_managers['experience_days'] = [(end - datetime.strptime(i, \"%Y-%m-%d\")).days for i in data_managers['working_date']]\n",
    "\n",
    "# obtain numbers of funds each manager is managing from the funds list\n",
    "data_managers['num_fund_manager_curr'] = [len(i.split(','))for i in data_managers['funds_on']]"
   ]
  },
  {
   "cell_type": "code",
   "execution_count": 4,
   "metadata": {},
   "outputs": [],
   "source": [
    "# select columns and rearrange\n",
    "data_managers_output = data_managers[['fund_code', 'manager_name', 'female', 'manager_edu_num', 'experience_days', 'aum_manager', 'num_fund_manager_curr', 'num_fund_manager_hist']]\n",
    "\n",
    "# save processed data as csv file\n",
    "data_managers_output.to_csv(r'C:\\Users\\lzc19\\Desktop\\PHBS 24-25 Fall II\\ADA\\Project\\Data\\Data_Processed\\ADA_Data_Fund_Manager.csv', encoding='gbk')"
   ]
  },
  {
   "cell_type": "code",
   "execution_count": 5,
   "metadata": {},
   "outputs": [
    {
     "data": {
      "text/html": [
       "<div>\n",
       "<style scoped>\n",
       "    .dataframe tbody tr th:only-of-type {\n",
       "        vertical-align: middle;\n",
       "    }\n",
       "\n",
       "    .dataframe tbody tr th {\n",
       "        vertical-align: top;\n",
       "    }\n",
       "\n",
       "    .dataframe thead th {\n",
       "        text-align: right;\n",
       "    }\n",
       "</style>\n",
       "<table border=\"1\" class=\"dataframe\">\n",
       "  <thead>\n",
       "    <tr style=\"text-align: right;\">\n",
       "      <th></th>\n",
       "      <th>fund_code</th>\n",
       "      <th>manager_name</th>\n",
       "      <th>female</th>\n",
       "      <th>manager_edu_num</th>\n",
       "      <th>experience_days</th>\n",
       "      <th>aum_manager</th>\n",
       "      <th>num_fund_manager_curr</th>\n",
       "      <th>num_fund_manager_hist</th>\n",
       "    </tr>\n",
       "  </thead>\n",
       "  <tbody>\n",
       "    <tr>\n",
       "      <th>0</th>\n",
       "      <td>000001.OF</td>\n",
       "      <td>刘睿聪</td>\n",
       "      <td>0</td>\n",
       "      <td>1</td>\n",
       "      <td>734</td>\n",
       "      <td>2.601916e+09</td>\n",
       "      <td>2</td>\n",
       "      <td>4</td>\n",
       "    </tr>\n",
       "    <tr>\n",
       "      <th>1</th>\n",
       "      <td>000003.OF</td>\n",
       "      <td>梅寓寒</td>\n",
       "      <td>1</td>\n",
       "      <td>1</td>\n",
       "      <td>1214</td>\n",
       "      <td>9.371041e+08</td>\n",
       "      <td>5</td>\n",
       "      <td>5</td>\n",
       "    </tr>\n",
       "    <tr>\n",
       "      <th>2</th>\n",
       "      <td>000004.OF</td>\n",
       "      <td>梅寓寒</td>\n",
       "      <td>1</td>\n",
       "      <td>1</td>\n",
       "      <td>1214</td>\n",
       "      <td>9.371041e+08</td>\n",
       "      <td>5</td>\n",
       "      <td>5</td>\n",
       "    </tr>\n",
       "    <tr>\n",
       "      <th>3</th>\n",
       "      <td>000005.OF</td>\n",
       "      <td>吴翠</td>\n",
       "      <td>1</td>\n",
       "      <td>1</td>\n",
       "      <td>420</td>\n",
       "      <td>4.541464e+09</td>\n",
       "      <td>4</td>\n",
       "      <td>4</td>\n",
       "    </tr>\n",
       "    <tr>\n",
       "      <th>4</th>\n",
       "      <td>000006.OF</td>\n",
       "      <td>盛丰衍</td>\n",
       "      <td>0</td>\n",
       "      <td>1</td>\n",
       "      <td>2149</td>\n",
       "      <td>7.756340e+09</td>\n",
       "      <td>9</td>\n",
       "      <td>15</td>\n",
       "    </tr>\n",
       "  </tbody>\n",
       "</table>\n",
       "</div>"
      ],
      "text/plain": [
       "   fund_code manager_name  female  manager_edu_num  experience_days  \\\n",
       "0  000001.OF          刘睿聪       0                1              734   \n",
       "1  000003.OF          梅寓寒       1                1             1214   \n",
       "2  000004.OF          梅寓寒       1                1             1214   \n",
       "3  000005.OF           吴翠       1                1              420   \n",
       "4  000006.OF          盛丰衍       0                1             2149   \n",
       "\n",
       "    aum_manager  num_fund_manager_curr  num_fund_manager_hist  \n",
       "0  2.601916e+09                      2                      4  \n",
       "1  9.371041e+08                      5                      5  \n",
       "2  9.371041e+08                      5                      5  \n",
       "3  4.541464e+09                      4                      4  \n",
       "4  7.756340e+09                      9                     15  "
      ]
     },
     "execution_count": 5,
     "metadata": {},
     "output_type": "execute_result"
    }
   ],
   "source": [
    "# viewing data\n",
    "data_managers_output.head()"
   ]
  },
  {
   "cell_type": "markdown",
   "metadata": {},
   "source": [
    "#### Fund Companies"
   ]
  },
  {
   "cell_type": "code",
   "execution_count": 6,
   "metadata": {},
   "outputs": [],
   "source": [
    "# loading data of fund companies\n",
    "# data source: iFind\n",
    "# simple processing with Excel has been done\n",
    "data_companies_raw = pd.read_excel(r\"C:\\Users\\lzc19\\Desktop\\PHBS 24-25 Fall II\\ADA\\Project\\Data\\Data_Exceled\\ADA_Data_Fund_Company.xlsx\")"
   ]
  },
  {
   "cell_type": "code",
   "execution_count": 7,
   "metadata": {},
   "outputs": [],
   "source": [
    "# copy first\n",
    "data_companies = data_companies_raw.copy()\n",
    "\n",
    "# transform and calculate duration of companies\n",
    "data_companies['company_duration'] = [(end - datetime.strptime(i, \"%Y-%m-%d\")).days for i in data_companies['company_starting_date']]\n",
    "\n",
    "# get a rank of company (dtype: int)\n",
    "data_companies['company_rank_aum'] = [int(i[:-4]) for i in data_companies['rank_aum']]\n",
    "\n",
    "# sort by ranks of companies\n",
    "data_companies.sort_values(by=\"company_rank_aum\", ascending=True, inplace=True)"
   ]
  },
  {
   "cell_type": "code",
   "execution_count": 8,
   "metadata": {},
   "outputs": [],
   "source": [
    "# select columns and rearrange\n",
    "data_companies_output = data_companies[['company_name', 'company_name_short', 'company_rank_aum','aum_non_mmf', 'aum', 'num_funds',  'num_managers', 'avg_aum_manager', 'avg_num_manager', 'company_duration']]\n",
    "\n",
    "# reset index \n",
    "data_companies_output.reset_index(inplace=True, drop=True)\n",
    "\n",
    "# save processed data of fund companies\n",
    "data_companies_output.to_csv(r\"C:\\Users\\lzc19\\Desktop\\PHBS 24-25 Fall II\\ADA\\Project\\Data\\Data_Processed\\ADA_Data_Fund_Company.csv\", encoding='gbk')"
   ]
  },
  {
   "cell_type": "markdown",
   "metadata": {},
   "source": [
    "#### Funds"
   ]
  },
  {
   "cell_type": "code",
   "execution_count": 9,
   "metadata": {},
   "outputs": [],
   "source": [
    "# loading data of fund companies\n",
    "# data source: iFind\n",
    "# simple processing with Excel has been done\n",
    "data_funds_raw = pd.read_excel(r\"C:\\Users\\lzc19\\Desktop\\PHBS 24-25 Fall II\\ADA\\Project\\Data\\Data_Exceled\\ADA_Data_Fund.xlsx\")"
   ]
  },
  {
   "cell_type": "code",
   "execution_count": 10,
   "metadata": {},
   "outputs": [],
   "source": [
    "# copy first\n",
    "data_funds = data_funds_raw.copy()"
   ]
  },
  {
   "cell_type": "code",
   "execution_count": 11,
   "metadata": {},
   "outputs": [],
   "source": [
    "# select necessary columns\n",
    "# using data of 2024\n",
    "data_funds_2024 = data_funds[['fund_code', 'fund_name', 'company_name_short', 'manager_name', 'manager_days', 'fof', 'index', \n",
    "        'category_l1', 'category_l2', 'nav', 'fee_management', 'fee_custodian', 'fee_subscription_max', 'fee_redemption_max ', \n",
    "        'ror_2024', 'pct_stock_2024', 'pct_bond_2024', 'pct_fund_2024', 'pct_mm_2024', 'pct_deposit_2024', 'fund_inception_date']]"
   ]
  },
  {
   "cell_type": "code",
   "execution_count": 12,
   "metadata": {},
   "outputs": [],
   "source": [
    "# transform the format of date\n",
    "data_funds_2024.loc[:, 'fund_inception_date'] = [datetime.strptime(i, '%Y-%m-%d') for i in data_funds_2024['fund_inception_date']]\n",
    "\n",
    "# filter the data\n",
    "start_2024 = datetime(2024, 1, 1)\n",
    "data_funds_2024 = data_funds_2024[\n",
    "                                (data_funds_2024['manager_days'] >= 375)  # fund under specific manager's management since 2024-01-01   \n",
    "                                & (data_funds_2024['fof'] == '否')  # remove FoFs\n",
    "                                & (data_funds_2024['index'] == '否')  # remove index funds\n",
    "                                & (data_funds_2024['fund_inception_date'] < start_2024)  # remove funds start after 2024-01-01\n",
    "                                & (data_funds_2024['fee_redemption_max '] != \"--\")  # drop missing values\n",
    "                                & (data_funds_2024['fee_subscription_max'] != \"--\")  # drop missing values\n",
    "                                & (data_funds_2024['fee_custodian'] != \"--\")  # drop missing values\n",
    "                                & (data_funds_2024['fee_management'] != \"--\")  # drop missing values\n",
    "                                & (data_funds_2024['ror_2024'] != '--')  # drop missing values\n",
    "                                & (data_funds_2024['nav'] != 0)  # remove funds with NAV=0\n",
    "                                ]"
   ]
  },
  {
   "cell_type": "code",
   "execution_count": 13,
   "metadata": {},
   "outputs": [],
   "source": [
    "# replace \"--\" with 0 in percents of asset allocation\n",
    "data_funds_2024.loc[:, 'pct_stock_2024'] = [0 if i == '--' else i for i in data_funds_2024['pct_stock_2024']]\n",
    "data_funds_2024.loc[:, 'pct_bond_2024'] = [0 if i == '--' else i for i in data_funds_2024['pct_bond_2024']]\n",
    "data_funds_2024.loc[:, 'pct_fund_2024'] = [0 if i == '--' else i for i in data_funds_2024['pct_fund_2024']]\n",
    "data_funds_2024.loc[:, 'pct_mm_2024'] = [0 if i == '--' else i for i in data_funds_2024['pct_mm_2024']]\n",
    "data_funds_2024.loc[:, 'pct_deposit_2024'] = [0 if i == '--' else i for i in data_funds_2024['pct_deposit_2024']]\n",
    "\n",
    "# data type to float\n",
    "data_funds_2024[['pct_stock_2024', 'pct_bond_2024', 'pct_fund_2024', 'pct_mm_2024', 'pct_deposit_2024']] = data_funds_2024[['pct_stock_2024', 'pct_bond_2024', 'pct_fund_2024', 'pct_mm_2024', 'pct_deposit_2024']].astype('float32')"
   ]
  },
  {
   "cell_type": "code",
   "execution_count": 14,
   "metadata": {},
   "outputs": [
    {
     "data": {
      "text/html": [
       "<div>\n",
       "<style scoped>\n",
       "    .dataframe tbody tr th:only-of-type {\n",
       "        vertical-align: middle;\n",
       "    }\n",
       "\n",
       "    .dataframe tbody tr th {\n",
       "        vertical-align: top;\n",
       "    }\n",
       "\n",
       "    .dataframe thead th {\n",
       "        text-align: right;\n",
       "    }\n",
       "</style>\n",
       "<table border=\"1\" class=\"dataframe\">\n",
       "  <thead>\n",
       "    <tr style=\"text-align: right;\">\n",
       "      <th></th>\n",
       "      <th>pct_stock_2024</th>\n",
       "      <th>pct_bond_2024</th>\n",
       "      <th>pct_fund_2024</th>\n",
       "      <th>pct_mm_2024</th>\n",
       "      <th>pct_deposit_2024</th>\n",
       "    </tr>\n",
       "  </thead>\n",
       "  <tbody>\n",
       "    <tr>\n",
       "      <th>count</th>\n",
       "      <td>10474.000000</td>\n",
       "      <td>10474.000000</td>\n",
       "      <td>10474.000000</td>\n",
       "      <td>10474.000000</td>\n",
       "      <td>10474.000000</td>\n",
       "    </tr>\n",
       "    <tr>\n",
       "      <th>mean</th>\n",
       "      <td>44.543896</td>\n",
       "      <td>51.745144</td>\n",
       "      <td>0.271056</td>\n",
       "      <td>0.002850</td>\n",
       "      <td>9.945718</td>\n",
       "    </tr>\n",
       "    <tr>\n",
       "      <th>std</th>\n",
       "      <td>40.764629</td>\n",
       "      <td>52.945480</td>\n",
       "      <td>4.669264</td>\n",
       "      <td>0.206223</td>\n",
       "      <td>91.990105</td>\n",
       "    </tr>\n",
       "    <tr>\n",
       "      <th>min</th>\n",
       "      <td>0.000000</td>\n",
       "      <td>0.000000</td>\n",
       "      <td>0.000000</td>\n",
       "      <td>0.000000</td>\n",
       "      <td>0.000000</td>\n",
       "    </tr>\n",
       "    <tr>\n",
       "      <th>25%</th>\n",
       "      <td>0.000000</td>\n",
       "      <td>0.000000</td>\n",
       "      <td>0.000000</td>\n",
       "      <td>0.000000</td>\n",
       "      <td>0.950025</td>\n",
       "    </tr>\n",
       "    <tr>\n",
       "      <th>50%</th>\n",
       "      <td>29.904600</td>\n",
       "      <td>34.057650</td>\n",
       "      <td>0.000000</td>\n",
       "      <td>0.000000</td>\n",
       "      <td>5.444500</td>\n",
       "    </tr>\n",
       "    <tr>\n",
       "      <th>75%</th>\n",
       "      <td>88.279198</td>\n",
       "      <td>102.737051</td>\n",
       "      <td>0.000000</td>\n",
       "      <td>0.000000</td>\n",
       "      <td>11.468350</td>\n",
       "    </tr>\n",
       "    <tr>\n",
       "      <th>max</th>\n",
       "      <td>99.528999</td>\n",
       "      <td>189.760193</td>\n",
       "      <td>94.716301</td>\n",
       "      <td>14.925900</td>\n",
       "      <td>6614.346680</td>\n",
       "    </tr>\n",
       "  </tbody>\n",
       "</table>\n",
       "</div>"
      ],
      "text/plain": [
       "       pct_stock_2024  pct_bond_2024  pct_fund_2024   pct_mm_2024  \\\n",
       "count    10474.000000   10474.000000   10474.000000  10474.000000   \n",
       "mean        44.543896      51.745144       0.271056      0.002850   \n",
       "std         40.764629      52.945480       4.669264      0.206223   \n",
       "min          0.000000       0.000000       0.000000      0.000000   \n",
       "25%          0.000000       0.000000       0.000000      0.000000   \n",
       "50%         29.904600      34.057650       0.000000      0.000000   \n",
       "75%         88.279198     102.737051       0.000000      0.000000   \n",
       "max         99.528999     189.760193      94.716301     14.925900   \n",
       "\n",
       "       pct_deposit_2024  \n",
       "count      10474.000000  \n",
       "mean           9.945718  \n",
       "std           91.990105  \n",
       "min            0.000000  \n",
       "25%            0.950025  \n",
       "50%            5.444500  \n",
       "75%           11.468350  \n",
       "max         6614.346680  "
      ]
     },
     "execution_count": 14,
     "metadata": {},
     "output_type": "execute_result"
    }
   ],
   "source": [
    "# descriptive statistics\n",
    "data_funds_2024[['pct_stock_2024', 'pct_bond_2024', 'pct_fund_2024', 'pct_mm_2024', 'pct_deposit_2024']].describe()"
   ]
  },
  {
   "cell_type": "markdown",
   "metadata": {},
   "source": [
    "各类资产收益率\n",
    "   1. 债券：CBA00101.CB[中债新综合指数(总值)财富指数]：2024年7.60%\n",
    "   2. 股票：700001.TI[同花顺全A(加权)]：2024年10.29%\n",
    "   3. 基金：H11020.CSI[中证基金]：2024年4.93%\n",
    "   4. MMF：H11025.CSI[货币基金]：2024年1.75%\n",
    "   5. 存款：活期存款利率：0.2% （2024-10-18后调整为0.1%）"
   ]
  },
  {
   "cell_type": "code",
   "execution_count": 15,
   "metadata": {},
   "outputs": [],
   "source": [
    "# Calculate benchmark, excess return, total fee\n",
    "\n",
    "# rate of return of different assets in 2024\n",
    "# data sourced from iFind\n",
    "stock_r_24 = 0.1029\n",
    "bond_r_24 = 0.0760\n",
    "fund_r_24 = 0.0493\n",
    "mmf_r_24 = 0.0175\n",
    "deposit_r_24 = 0.0020\n",
    "\n",
    "# define a function to calculate benchmark\n",
    "def cal_benchmark(i):\n",
    "    return i.iloc[0] * stock_r_24 + i.iloc[1] * bond_r_24 + i.iloc[2] * fund_r_24 + i.iloc[3] * mmf_r_24 + i.iloc[4] * deposit_r_24\n",
    "\n",
    "# apply the function to data (%)\n",
    "data_funds_2024['benchmark_rate'] = data_funds_2024[['pct_stock_2024', 'pct_bond_2024', 'pct_fund_2024', 'pct_mm_2024', 'pct_deposit_2024']].apply(cal_benchmark, axis=1)\n",
    "\n",
    "# calculate the excess return (%)\n",
    "data_funds_2024['excess_return'] = data_funds_2024['ror_2024'] - data_funds_2024['benchmark_rate']\n",
    "\n",
    "# calculate total fee (max, %)\n",
    "data_funds_2024['total_fee_max'] = data_funds_2024['fee_custodian'] + data_funds_2024['fee_management'] + data_funds_2024['fee_redemption_max '] + data_funds_2024['fee_subscription_max']"
   ]
  },
  {
   "cell_type": "code",
   "execution_count": 16,
   "metadata": {},
   "outputs": [],
   "source": [
    "# calculate NAV-weighted sum as we need to calculate weighted average later\n",
    "data_funds_2024['weighted_sum_benchmark_rate'] = data_funds_2024['benchmark_rate'] * data_funds_2024['nav']\n",
    "data_funds_2024['weighted_sum_excess_return'] = data_funds_2024['excess_return'] * data_funds_2024['nav']\n",
    "data_funds_2024['weighted_sum_fee_total'] = data_funds_2024['total_fee_max'] * data_funds_2024['nav']"
   ]
  },
  {
   "cell_type": "code",
   "execution_count": 17,
   "metadata": {},
   "outputs": [],
   "source": [
    "# reset index and save processed data\n",
    "data_funds_2024.reset_index(inplace=True, drop=True)\n",
    "data_funds_2024.to_csv(r\"C:\\Users\\lzc19\\Desktop\\PHBS 24-25 Fall II\\ADA\\Project\\Data\\Data_Processed\\ADA_Data_Fund_2024.csv\", encoding='gbk')"
   ]
  },
  {
   "cell_type": "markdown",
   "metadata": {},
   "source": [
    "#### Merging Data\n",
    "merge data of funds, fund managers, fund companies"
   ]
  },
  {
   "cell_type": "code",
   "execution_count": 18,
   "metadata": {},
   "outputs": [],
   "source": [
    "# merge data of managers and funds\n",
    "# on=['fund_code', 'manager_name']\n",
    "data_funds_1 = pd.merge(data_funds_2024, data_managers_output, on=['fund_code', 'manager_name'], how='inner') "
   ]
  },
  {
   "cell_type": "code",
   "execution_count": 19,
   "metadata": {},
   "outputs": [],
   "source": [
    "# merge again with data of companies\n",
    "data_funds_2 = pd.merge(data_funds_1, data_companies_output, on='company_name_short', how='inner')"
   ]
  },
  {
   "cell_type": "code",
   "execution_count": 20,
   "metadata": {},
   "outputs": [],
   "source": [
    "# select and rearrange columns\n",
    "# managers -> companies -> funds\n",
    "data_funds_3 = data_funds_2[['manager_name', 'female', 'manager_edu_num',\n",
    "       'experience_days', 'aum_manager', 'num_fund_manager_curr',\n",
    "       'num_fund_manager_hist', 'company_name_short', 'company_name', 'company_rank_aum',\n",
    "       'aum_non_mmf', 'aum', 'num_funds', 'num_managers', 'avg_aum_manager',\n",
    "       'avg_num_manager', 'company_duration', 'fund_code', 'fund_name', \n",
    "       'manager_days', 'fof', 'index', 'category_l1', 'category_l2', 'nav',\n",
    "       'fee_management', 'fee_custodian', 'fee_subscription_max',\n",
    "       'fee_redemption_max ', 'total_fee_max', 'ror_2024', 'pct_stock_2024', 'pct_bond_2024',\n",
    "       'pct_fund_2024', 'pct_mm_2024', 'pct_deposit_2024',\n",
    "       'fund_inception_date', 'benchmark_rate', 'excess_return',\n",
    "       'weighted_sum_benchmark_rate', 'weighted_sum_excess_return', 'weighted_sum_fee_total']]"
   ]
  },
  {
   "cell_type": "code",
   "execution_count": 21,
   "metadata": {},
   "outputs": [],
   "source": [
    "# save processed data (pre-grouped) (Version 1)\n",
    "data_funds_3.to_csv(r'c:\\Users\\lzc19\\Desktop\\PHBS 24-25 Fall II\\ADA\\Project\\Data\\Data_Processed\\ADA_Data_V1.csv', encoding='gbk')"
   ]
  },
  {
   "cell_type": "markdown",
   "metadata": {},
   "source": [
    "#### Manager-Level Data"
   ]
  },
  {
   "cell_type": "code",
   "execution_count": 22,
   "metadata": {},
   "outputs": [],
   "source": [
    "# group data by managers\n",
    "# to avoid Duplicate names, also by companies\n",
    "grouped = data_funds_3.groupby(['manager_name', 'company_name'])"
   ]
  },
  {
   "cell_type": "code",
   "execution_count": 23,
   "metadata": {},
   "outputs": [],
   "source": [
    "# calculate NAV-weighted averages\n",
    "# recall that we calculate NAV-weighted sum already\n",
    "def weighted_average_b(group):  # AV-weighted average benchmark rate\n",
    "    return (group['weighted_sum_benchmark_rate'].sum() / group['nav'].sum())\n",
    "\n",
    "def weighted_average_e(group):  # AV-weighted average excess return\n",
    "    return (group['weighted_sum_excess_return'].sum() / group['nav'].sum())\n",
    "\n",
    "def weighted_average_f(group):  # AV-weighted average total fee rate\n",
    "    return (group['weighted_sum_fee_total'].sum() / group['nav'].sum())\n",
    "\n",
    "weighted_average_benchmark_rate = grouped.apply(weighted_average_b, include_groups=False)\n",
    "weighted_average_excess_return = grouped.apply(weighted_average_e, include_groups=False)\n",
    "weighted_average_fee_total = grouped.apply(weighted_average_f, include_groups=False)"
   ]
  },
  {
   "cell_type": "code",
   "execution_count": 24,
   "metadata": {},
   "outputs": [],
   "source": [
    "# drop duplicates to get manager-level data\n",
    "# set multi-index\n",
    "data_funds_4 = data_funds_3.drop_duplicates(subset=['manager_name', 'company_name']).reset_index(drop=True).set_index(['manager_name', 'company_name'])"
   ]
  },
  {
   "cell_type": "code",
   "execution_count": 25,
   "metadata": {},
   "outputs": [],
   "source": [
    "# select and rearrange\n",
    "data_funds_4 = data_funds_4[['female', 'manager_edu_num',\n",
    "       'experience_days', 'aum_manager', 'num_fund_manager_curr',\n",
    "       'num_fund_manager_hist', 'company_name_short', 'company_rank_aum',\n",
    "       'aum_non_mmf', 'aum', 'num_funds', 'num_managers', 'avg_aum_manager',\n",
    "       'avg_num_manager', 'company_duration']]\n",
    "\n",
    "# insert weighted averages\n",
    "data_funds_4['weighted_average_benchmark_rate'] = weighted_average_benchmark_rate\n",
    "data_funds_4['weighted_average_excess_return'] = weighted_average_excess_return\n",
    "data_funds_4['weighted_average_fee_total'] = weighted_average_fee_total"
   ]
  },
  {
   "cell_type": "code",
   "execution_count": 26,
   "metadata": {},
   "outputs": [],
   "source": [
    "# save processed data (grouped) (Version 2)\n",
    "data_funds_4.to_csv(r\"C:\\Users\\lzc19\\Desktop\\PHBS 24-25 Fall II\\ADA\\Project\\Data\\Data_Processed\\ADA_Data_V2.csv\", encoding='gbk')"
   ]
  },
  {
   "cell_type": "markdown",
   "metadata": {},
   "source": [
    "#### Facial Attractiveness Scores"
   ]
  },
  {
   "cell_type": "code",
   "execution_count": 27,
   "metadata": {},
   "outputs": [],
   "source": [
    "# pictures from Asset Management Association of China (AMAC): https://gs.amac.org.cn/amac-infodisc/res/pof/person/personOrgList.html\n",
    "# Scored on FacePlusPlus API\n",
    "# simple processing with Excel\n",
    "data_facial = pd.read_csv(r\"C:\\Users\\lzc19\\Desktop\\PHBS 24-25 Fall II\\ADA\\Project\\Data\\ADA_Data_Fund_Manager_Scores.csv\", encoding='utf-8', index_col=False).drop('Unnamed: 0', axis=1)"
   ]
  },
  {
   "cell_type": "markdown",
   "metadata": {},
   "source": [
    "#### Previous Experience"
   ]
  },
  {
   "cell_type": "code",
   "execution_count": 28,
   "metadata": {},
   "outputs": [],
   "source": [
    "# load data of previous experience\n",
    "# data sourced from the website of AMAC, crawling\n",
    "# previous experience calculated as the latest creation date - the earliest creation date\n",
    "data_pre_experience_raw = pd.read_excel(r\"C:\\Users\\lzc19\\Desktop\\PHBS 24-25 Fall II\\ADA\\Project\\Data\\ADA_Data_Fund_Manager_Infos.xlsx\")"
   ]
  },
  {
   "cell_type": "code",
   "execution_count": 29,
   "metadata": {},
   "outputs": [],
   "source": [
    "# select and rearrange columns\n",
    "data_pre_experience = data_pre_experience_raw[['manager_name', 'company_name', 'earliest', 'latest', 'experience_before']]"
   ]
  },
  {
   "cell_type": "code",
   "execution_count": 30,
   "metadata": {},
   "outputs": [],
   "source": [
    "# merging\n",
    "data_managers_ = pd.merge(data_facial, data_pre_experience, on=['manager_name', 'company_name'], how=\"inner\")"
   ]
  },
  {
   "cell_type": "code",
   "execution_count": 31,
   "metadata": {},
   "outputs": [],
   "source": [
    "# add scores and previous experience data\n",
    "data_funds_5 = pd.merge(data_funds_4, data_managers_, on=['company_name', 'manager_name'], how='inner')\n",
    "\n",
    "# sort and reset index \n",
    "data_funds_5.sort_values(by=['company_name', 'manager_name'], ascending=True, inplace=True)\n",
    "data_funds_5.reset_index(inplace=True, drop=True)"
   ]
  },
  {
   "cell_type": "code",
   "execution_count": 32,
   "metadata": {},
   "outputs": [],
   "source": [
    "# save processed data (with facial attractiveness scores) (Version 3)\n",
    "data_funds_5.to_csv(r'c:\\Users\\lzc19\\Desktop\\PHBS 24-25 Fall II\\ADA\\Project\\Data\\Data_Processed\\ADA_Data_V3.csv', encoding='gbk')"
   ]
  }
 ],
 "metadata": {
  "kernelspec": {
   "display_name": "base",
   "language": "python",
   "name": "python3"
  },
  "language_info": {
   "codemirror_mode": {
    "name": "ipython",
    "version": 3
   },
   "file_extension": ".py",
   "mimetype": "text/x-python",
   "name": "python",
   "nbconvert_exporter": "python",
   "pygments_lexer": "ipython3",
   "version": "3.12.7"
  }
 },
 "nbformat": 4,
 "nbformat_minor": 2
}
