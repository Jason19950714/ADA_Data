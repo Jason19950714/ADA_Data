{
 "cells": [
  {
   "cell_type": "code",
   "execution_count": 1,
   "metadata": {},
   "outputs": [],
   "source": [
    "import datetime\n",
    "import pandas as pd"
   ]
  },
  {
   "cell_type": "code",
   "execution_count": 2,
   "metadata": {},
   "outputs": [],
   "source": [
    "manager_infos = pd.read_excel(r\"Manager_info_v2.xlsx\")"
   ]
  },
  {
   "cell_type": "code",
   "execution_count": 3,
   "metadata": {},
   "outputs": [],
   "source": [
    "manager_infos_0 = manager_infos[[\"accountId\", \"userName\", \"sex\", \"orgName\", \"certName\", \"History_Date\"]]"
   ]
  },
  {
   "cell_type": "code",
   "execution_count": 4,
   "metadata": {},
   "outputs": [],
   "source": [
    "manager_infos_0.loc[:,'History_Date'] = [datetime.datetime.strptime(i, \"%Y-%m-%d\")for i in manager_infos_0['History_Date']]"
   ]
  },
  {
   "cell_type": "code",
   "execution_count": 5,
   "metadata": {},
   "outputs": [],
   "source": [
    "grouped = manager_infos_0.groupby(by='accountId')"
   ]
  },
  {
   "cell_type": "code",
   "execution_count": 6,
   "metadata": {},
   "outputs": [],
   "source": [
    "min = grouped['History_Date'].min()\n",
    "max = grouped['History_Date'].max()\n",
    "experience = max - min"
   ]
  },
  {
   "cell_type": "code",
   "execution_count": 10,
   "metadata": {},
   "outputs": [],
   "source": [
    "manager_infos_0.set_index('accountId', inplace=True, drop=True)\n",
    "\n",
    "manager_infos_0.loc[:, 'earliest'] = min\n",
    "manager_infos_0.loc[:, 'latest'] = max\n",
    "manager_infos_0.loc[:, 'experience_before'] = experience"
   ]
  },
  {
   "cell_type": "code",
   "execution_count": 14,
   "metadata": {},
   "outputs": [
    {
     "name": "stderr",
     "output_type": "stream",
     "text": [
      "C:\\Users\\lzc19\\AppData\\Local\\Temp\\ipykernel_4664\\2824338726.py:1: SettingWithCopyWarning: \n",
      "A value is trying to be set on a copy of a slice from a DataFrame\n",
      "\n",
      "See the caveats in the documentation: https://pandas.pydata.org/pandas-docs/stable/user_guide/indexing.html#returning-a-view-versus-a-copy\n",
      "  manager_infos_0.drop_duplicates(subset=['userName', 'orgName'], inplace=True)\n"
     ]
    }
   ],
   "source": [
    "manager_infos_0.drop_duplicates(subset=['userName', 'orgName'], inplace=True)"
   ]
  },
  {
   "cell_type": "code",
   "execution_count": 19,
   "metadata": {},
   "outputs": [],
   "source": [
    "manager_infos_0.to_excel(r\"C:\\Users\\lzc19\\Desktop\\PHBS 24-25 Fall II\\ADA\\Project\\Data\\ADA_Data_Fund_Manager_Infos.xlsx\")"
   ]
  }
 ],
 "metadata": {
  "kernelspec": {
   "display_name": "base",
   "language": "python",
   "name": "python3"
  },
  "language_info": {
   "codemirror_mode": {
    "name": "ipython",
    "version": 3
   },
   "file_extension": ".py",
   "mimetype": "text/x-python",
   "name": "python",
   "nbconvert_exporter": "python",
   "pygments_lexer": "ipython3",
   "version": "3.12.7"
  }
 },
 "nbformat": 4,
 "nbformat_minor": 2
}
