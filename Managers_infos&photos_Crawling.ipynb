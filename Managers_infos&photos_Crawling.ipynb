{
 "cells": [
  {
   "cell_type": "code",
   "execution_count": 2,
   "metadata": {},
   "outputs": [],
   "source": [
    "# import packages\n",
    "import requests\n",
    "import random\n",
    "import json\n",
    "import time\n",
    "import re\n",
    "import pandas as pd\n",
    "import os\n",
    "from datetime import datetime\n",
    "from seleniumwire import webdriver\n",
    "from seleniumwire.utils import decode\n",
    "from selenium.webdriver.edge.options import Options"
   ]
  },
  {
   "cell_type": "code",
   "execution_count": 3,
   "metadata": {},
   "outputs": [],
   "source": [
    "# 创建一个 Chrome 配置对象\n",
    "edge_options = Options()\n",
    "\n",
    "# 设置无头模式\n",
    "edge_options.add_argument(\"--headless\")\n",
    "edge_options.add_argument(\"--verbose\")"
   ]
  },
  {
   "cell_type": "code",
   "execution_count": 4,
   "metadata": {},
   "outputs": [],
   "source": [
    "# 爬取所有基金公司信息\n",
    "personOrgList = pd.DataFrame()\n",
    "for num in range(8):  # 机构列表页面共8页\n",
    "    driver = webdriver.Edge(options=edge_options)\n",
    "    # 设置一个请求拦截器\n",
    "    def request_interceptor(request):\n",
    "        # 找到personOrgList请求\n",
    "        if 'rand=' in request.url:\n",
    "            # 修改请求体（通常AJAX请求体是JSON格式）\n",
    "            params = request.params\n",
    "            params['page'] = str(num)  # 修改页数\n",
    "            request.params = params\n",
    "\n",
    "    # 配置 WebDriver 以使用拦截器\n",
    "    driver.request_interceptor = request_interceptor\n",
    "\n",
    "    # 导航到目标网站\n",
    "    driver.get('https://gs.amac.org.cn/amac-infodisc/res/pof/person/personOrgList.html')\n",
    "    time.sleep(5)  #减少服务器短时负载 \n",
    "\n",
    "    # 爬取页面内容\n",
    "    for request in driver.requests:\n",
    "        if request.response:\n",
    "            if 'rand=' in request.url:\n",
    "                content = request.response.body.decode('utf-8')\n",
    "            else:\n",
    "                pass\n",
    "\n",
    "    # 关闭浏览器\n",
    "    driver.quit()\n",
    "\n",
    "    # 从响应内容中找到personOrgList\n",
    "    personOrgList_ = pd.DataFrame(json.loads(content)['content'])\n",
    "    personOrgList = pd.concat([personOrgList, personOrgList_], axis=0)"
   ]
  },
  {
   "cell_type": "code",
   "execution_count": 12,
   "metadata": {},
   "outputs": [],
   "source": [
    "\n",
    "personOrgList.reset_index(drop=True, inplace=True)  #拼接后index较为混乱，重置index"
   ]
  },
  {
   "cell_type": "code",
   "execution_count": null,
   "metadata": {},
   "outputs": [],
   "source": [
    "personOrgList.shape  #检查基金公司数目是否正确"
   ]
  },
  {
   "cell_type": "code",
   "execution_count": null,
   "metadata": {},
   "outputs": [],
   "source": [
    "# 爬取基金经理信息（所有基金）\n",
    "url_head = 'https://gs.amac.org.cn/amac-infodisc/res/pof/person/fundManagerList.html?userId='\n",
    "\n",
    "ManagerList = pd.DataFrame()\n",
    "for i in range(personOrgList.shape[0]):\n",
    "    company = personOrgList.loc[i,'userId']\n",
    "    name = personOrgList.loc[i,'orgName']\n",
    "    manager_num = personOrgList.loc[i,'fundManagerNum']\n",
    "    page_num = manager_num // 20 + 1\n",
    "    url = url_head + str(company)\n",
    "    ManagerList_1 = pd.DataFrame()\n",
    "    for num in range(page_num):\n",
    "        driver = webdriver.Edge(options=edge_options)\n",
    "        # 设置一个请求拦截器\n",
    "        def request_interceptor(request):\n",
    "            # 找到personOrgList请求\n",
    "            if 'rand=' in request.url:\n",
    "                # 修改请求体（通常AJAX请求体是JSON格式）\n",
    "                params = request.params\n",
    "                params['page'] = str(num)\n",
    "                request.params = params\n",
    "        # 配置 WebDriver 以使用拦截器\n",
    "        driver.request_interceptor = request_interceptor\n",
    "        driver.get(url)   \n",
    "        for request in driver.requests:\n",
    "            if request.response:\n",
    "                if 'rand=' in request.url:\n",
    "                    content = request.response.body.decode('utf-8')\n",
    "                else:\n",
    "                    pass\n",
    "        driver.quit()\n",
    "        ManagerList_0 = pd.DataFrame(json.loads(content)['content'])\n",
    "        ManagerList_1 = pd.concat([ManagerList_1, ManagerList_0], axis=0)\n",
    "        rand = random.uniform(0.5, 1.5)\n",
    "        time.sleep(rand)\n",
    "    print(f'第{i+1}家基金公司{name}爬取完毕，开始数据拼接')\n",
    "    ManagerList = pd.concat([ManagerList, ManagerList_1], axis=0)\n",
    "    rand = random.uniform(3, 5)\n",
    "    if i + 1 % 10 ==0:\n",
    "        time.sleep(rand + 10)\n",
    "    else:\n",
    "        time.sleep(rand)"
   ]
  },
  {
   "cell_type": "code",
   "execution_count": 18,
   "metadata": {},
   "outputs": [],
   "source": [
    "ManagerList['personCertHistoryList'] = [pd.DataFrame(HistoryList) for HistoryList in ManagerList['personCertHistoryList']]\n",
    "ManagerList.reset_index(inplace=True, drop=True)"
   ]
  },
  {
   "cell_type": "code",
   "execution_count": 46,
   "metadata": {},
   "outputs": [],
   "source": [
    "# 确认数据格式\n",
    "ManagerList['accountId'] = ManagerList['accountId'].astype(str)\n",
    "ManagerList['userId'] = ManagerList['userId'].astype(str)\n",
    "ManagerList['bizId'] = ManagerList['bizId'].astype(str)"
   ]
  },
  {
   "cell_type": "code",
   "execution_count": 47,
   "metadata": {},
   "outputs": [],
   "source": [
    "# 保存数据\n",
    "ManagerList.to_excel('./Manager_list.xlsx')"
   ]
  },
  {
   "cell_type": "code",
   "execution_count": 9,
   "metadata": {},
   "outputs": [],
   "source": [
    "ManagerList = pd.read_excel('./Manager_list.xlsx')\n",
    "ManagerList.drop('Unnamed: 0', axis=1, inplace=True)"
   ]
  },
  {
   "cell_type": "code",
   "execution_count": null,
   "metadata": {},
   "outputs": [],
   "source": [
    "headers = {\n",
    "    \"Accept-Language\": \"zh-CN,zh;q=0.9\",\n",
    "    'Content-Type': 'application/json',\n",
    "    'Origin': 'http://gs.amac.org.cn',\n",
    "    'Referer': 'https://gs.amac.org.cn/amac-infodisc/res/pof/fund/index.html',\n",
    "    'User-Agent': 'Mozilla/5.0 (Linux; Android 6.0; Nexus 5 Build/MRA58N) AppleWebKit/537.36 (KHTML, like Gecko) Chrome/101.0.4951.54 Mobile Safari/537.36'\n",
    "}\n",
    "host = 'https://gs.amac.org.cn'\n",
    "api = '/amac-infodisc/api/pof/person/'\n",
    "Manager_info = pd.DataFrame()\n",
    "for i in range(ManagerList.shape[0]):\n",
    "    accountId = ManagerList.loc[i, 'accountId']\n",
    "    rand = random.random()\n",
    "    url = host + api + str(accountId) + '?rand=' + str(rand)\n",
    "    if (i + 1) % 100 == 0:\n",
    "        print(f\"已爬取3519个基金经理中{i+1}个基金经理的相关信息，不如休息10s吧！\")\n",
    "        rand = random.uniform(8, 10)\n",
    "        time.sleep(rand)\n",
    "    else:\n",
    "        pass\n",
    "    response = requests.get(url=url, headers=headers)\n",
    "    if response.status_code == 200:\n",
    "        content = response.text\n",
    "        Manager_info_ = pd.DataFrame(json.loads(content))\n",
    "        Manager_info = pd.concat([Manager_info, Manager_info_], axis=0)\n",
    "    else:\n",
    "        name = ManagerList.loc[i, 'userName']\n",
    "        print(f\"{name}信息爬取出错\")"
   ]
  },
  {
   "cell_type": "code",
   "execution_count": 16,
   "metadata": {},
   "outputs": [],
   "source": [
    "Manager_info.reset_index(drop=True, inplace=True)"
   ]
  },
  {
   "cell_type": "code",
   "execution_count": 48,
   "metadata": {},
   "outputs": [],
   "source": [
    "# 提取History信息\n",
    "Manager_info['History_Company'] = [history['orgName'] for history in Manager_info['personCertHistoryList']]\n",
    "Manager_info['History_Date'] = [datetime.fromtimestamp(history['creationDate']/1000).strftime(\"%Y-%m-%d\") for history in Manager_info['personCertHistoryList']]\n",
    "Manager_info['History_Status'] = [history['statusName'] for history in Manager_info['personCertHistoryList']]\n",
    "\n",
    "Manager_info.drop('personCertHistoryList', axis=1)"
   ]
  },
  {
   "cell_type": "code",
   "execution_count": 51,
   "metadata": {},
   "outputs": [],
   "source": [
    "# 保存数据:information of managers\n",
    "Manager_info.to_excel('./Manager_infos.xlsx')"
   ]
  },
  {
   "cell_type": "code",
   "execution_count": 54,
   "metadata": {},
   "outputs": [],
   "source": [
    "# 提取照片相关信息\n",
    "Manager_photo = Manager_info[['accountId', 'userName', 'orgName', 'personPhotoBase64']].drop_duplicates()\n",
    "Manager_photo.to_excel('./Manager_photo.xlsx')"
   ]
  },
  {
   "cell_type": "code",
   "execution_count": 68,
   "metadata": {},
   "outputs": [],
   "source": [
    "headers = {\n",
    "    \"Accept-Language\": \"zh-CN,zh;q=0.9,en;q=0.8,en-GB;q=0.7,en-US;q=0.6\",\n",
    "    'Content-Type': 'image/png',\n",
    "    'Host': 'human.amac.org.cn',\n",
    "    'User-Agent': 'Mozilla/5.0 (Windows NT 10.0; Win64; x64) AppleWebKit/537.36 (KHTML, like Gecko) Chrome/131.0.0.0 Safari/537.36 Edg/131.0.0.0'\n",
    "}\n"
   ]
  },
  {
   "cell_type": "code",
   "execution_count": null,
   "metadata": {},
   "outputs": [],
   "source": [
    "folder = r'C:\\Users\\lzc19\\Desktop\\VSCode\\Python\\Jupyter notebook\\爬虫\\AMAC\\AMAC证件照'\n",
    "for i in range(Manager_photo.shape[0]):\n",
    "    userName = Manager_photo.loc[i, 'userName']\n",
    "    orgName = Manager_photo.loc[i, 'orgName']\n",
    "    url = Manager_photo.loc[i, 'personPhotoBase64']\n",
    "    pic_name = orgName + '_' + userName + '.jpg'\n",
    "    print(url)\n",
    "    response = requests.get(url)\n",
    "    rand = random.uniform(0.075, 0.125)\n",
    "    if response.status_code == 200:\n",
    "        if response.content != 0:\n",
    "            with open(os.path.join(folder, pic_name), 'wb') as f:\n",
    "                f.write(response.content)\n",
    "        else:\n",
    "            print(f'{orgName}的基金经理{userName}照片缺失')\n",
    "    else:\n",
    "        print(f'请求错误，状态码为{response.status_code}')"
   ]
  }
 ],
 "metadata": {
  "kernelspec": {
   "display_name": "base",
   "language": "python",
   "name": "python3"
  },
  "language_info": {
   "codemirror_mode": {
    "name": "ipython",
    "version": 3
   },
   "file_extension": ".py",
   "mimetype": "text/x-python",
   "name": "python",
   "nbconvert_exporter": "python",
   "pygments_lexer": "ipython3",
   "version": "3.11.5"
  }
 },
 "nbformat": 4,
 "nbformat_minor": 2
}
