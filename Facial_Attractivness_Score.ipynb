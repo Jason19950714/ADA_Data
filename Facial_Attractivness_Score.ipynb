{
 "cells": [
  {
   "cell_type": "code",
   "id": "initial_id",
   "metadata": {
    "collapsed": true,
    "ExecuteTime": {
     "end_time": "2025-01-11T07:56:17.102194Z",
     "start_time": "2025-01-11T07:56:17.092746Z"
    }
   },
   "source": [
    "import requests\n",
    "import pandas as pd\n",
    "import os\n",
    "import json\n",
    "import time\n",
    "from requests.exceptions import SSLError, RequestException  # RequestException 是所有请求异常的基类"
   ],
   "outputs": [],
   "execution_count": 4
  },
  {
   "metadata": {
    "ExecuteTime": {
     "end_time": "2025-01-11T07:56:17.109768Z",
     "start_time": "2025-01-11T07:56:17.107530Z"
    }
   },
   "cell_type": "code",
   "source": [
    "http_url = \"https://api-cn.faceplusplus.com/facepp/v3/detect\" \n",
    "key =\"apD0OPgriGmRItHsYwbLIT1GFmtHV0zU\"\n",
    "secret =\"oMW9bU7R-HHw4665UkmCKHCwwxxlhu_1\"\n",
    "data = {\"api_key\": key, \"api_secret\": secret, \"return_landmark\": \"1\",\"return_attributes\":\"beauty\"}"
   ],
   "id": "eb5638bf0d684ee4",
   "outputs": [],
   "execution_count": 5
  },
  {
   "metadata": {
    "ExecuteTime": {
     "end_time": "2025-01-11T08:27:38.890859Z",
     "start_time": "2025-01-11T07:56:17.117290Z"
    }
   },
   "cell_type": "code",
   "source": [
    "manager_scores = []\n",
    "error_list = []\n",
    "for root, dirs, files in os.walk(\"/Users/lzc19950714/PycharmProjects/pythonProject/ADA/AMAC_photos\"):\n",
    "    print(f\"共包括{len(files)}名基金经理照片\")\n",
    "    for pic_name in files:\n",
    "        company_name = pic_name[:-4].split('_')[0]\n",
    "        manager_name = pic_name[:-4].split('_')[1]\n",
    "        manager_score = {'company_name': company_name, 'manager_name': manager_name}\n",
    "        file_path = os.path.join(root, pic_name)\n",
    "        pics = {\"image_file\": open(file_path, \"rb\")}\n",
    "        time.sleep(0.05)\n",
    "        try:\n",
    "            response = requests.post(http_url, data=data, files=pics)\n",
    "            if response.status_code == 200:\n",
    "                content = response.content.decode('utf-8')\n",
    "                res_dict = json.JSONDecoder().decode(content)\n",
    "                score = res_dict['faces'][0]['attributes']['beauty']\n",
    "            else:\n",
    "                score = {'male_score': None, 'female_score': None}\n",
    "            manager_score.update(score)\n",
    "            manager_scores.append(manager_score)\n",
    "        except SSLError as ssl_err:\n",
    "            print(f\"SSL 错误: {ssl_err}\\n\")\n",
    "            print(pic_name)\n",
    "            error_list.append(manager_name)\n",
    "        except RequestException as req_err:\n",
    "            print(f\"请求错误: {req_err}\\n\")\n",
    "            print(pic_name)\n",
    "            error_list.append(manager_name)\n",
    "        except Exception as e:\n",
    "            print(f\"发生了一个错误: {e}\\n\")\n",
    "            print(pic_name)\n",
    "            error_list.append(manager_name)"
   ],
   "id": "b0585efe2d7b7886",
   "outputs": [
    {
     "name": "stdout",
     "output_type": "stream",
     "text": [
      "共包括3485名基金经理照片\n",
      "发生了一个错误: list index out of range\n",
      "\n",
      "华夏基金管理有限公司_何家琪.jpg\n",
      "发生了一个错误: list index out of range\n",
      "\n",
      "招商基金管理有限公司_许荣漫.jpg\n",
      "发生了一个错误: list index out of range\n",
      "\n",
      "南方基金管理股份有限公司_刘益成.jpg\n",
      "发生了一个错误: list index out of range\n",
      "\n",
      "施罗德基金管理（中国）有限公司_单坤.jpg\n",
      "发生了一个错误: list index out of range\n",
      "\n",
      "上银基金管理有限公司_鉏国彬.jpg\n",
      "发生了一个错误: list index out of range\n",
      "\n",
      "嘉实基金管理有限公司_张宇驰.jpg\n",
      "发生了一个错误: list index out of range\n",
      "\n",
      "中邮创业基金管理股份有限公司_王高.jpg\n",
      "发生了一个错误: list index out of range\n",
      "\n",
      "农银汇理基金管理有限公司_张燕.jpg\n",
      "发生了一个错误: list index out of range\n",
      "\n",
      "泓德基金管理有限公司_胡云.jpg\n",
      "发生了一个错误: list index out of range\n",
      "\n",
      "国海富兰克林基金管理有限公司_沈竹熙.jpg\n"
     ]
    }
   ],
   "execution_count": 6
  },
  {
   "metadata": {
    "ExecuteTime": {
     "end_time": "2025-01-11T08:27:38.958359Z",
     "start_time": "2025-01-11T08:27:38.928884Z"
    }
   },
   "cell_type": "code",
   "source": "manager_scores = pd.DataFrame(manager_scores)",
   "id": "7fa3d7085eb9f65",
   "outputs": [],
   "execution_count": 7
  },
  {
   "metadata": {
    "ExecuteTime": {
     "end_time": "2025-01-11T08:30:35.371139Z",
     "start_time": "2025-01-11T08:30:35.214788Z"
    }
   },
   "cell_type": "code",
   "source": [
    "managers_photo_list = pd.read_excel(\"/Users/lzc19950714/PycharmProjects/pythonProject/ADA/Manager_photo.xlsx\", index_col=0)\n",
    "managers_photo_list.reset_index(inplace=True, drop=True)"
   ],
   "id": "397266a3087bd51f",
   "outputs": [],
   "execution_count": 17
  },
  {
   "metadata": {},
   "cell_type": "code",
   "source": [
    "managers_photo_list.columns = [\"Manager_Id\",\t\"manager_name\", \"company_name\", \"photo_urls\"]\n",
    "manager_scores = pd.merge(manager_scores, managers_photo_list, on=['manager_name', \"company_name\"], how='inner')"
   ],
   "id": "3e04268fd450fa15",
   "outputs": [],
   "execution_count": null
  },
  {
   "metadata": {
    "ExecuteTime": {
     "end_time": "2025-01-11T08:34:34.238037Z",
     "start_time": "2025-01-11T08:34:34.221163Z"
    }
   },
   "cell_type": "code",
   "source": "manager_scores_output = manager_scores[['manager_name', 'company_name', 'male_score', 'female_score', 'photo_urls']]",
   "id": "9e4136d2c3c84f81",
   "outputs": [],
   "execution_count": 23
  },
  {
   "metadata": {
    "ExecuteTime": {
     "end_time": "2025-01-11T08:35:02.314618Z",
     "start_time": "2025-01-11T08:35:02.283800Z"
    }
   },
   "cell_type": "code",
   "source": "manager_scores_output.to_csv('/Users/lzc19950714/PycharmProjects/pythonProject/ADA/Manager_Scores.csv', encoding='utf-8')",
   "id": "3125eac1fec3ef8",
   "outputs": [],
   "execution_count": 26
  }
 ],
 "metadata": {
  "kernelspec": {
   "display_name": "Python 3",
   "language": "python",
   "name": "python3"
  },
  "language_info": {
   "codemirror_mode": {
    "name": "ipython",
    "version": 2
   },
   "file_extension": ".py",
   "mimetype": "text/x-python",
   "name": "python",
   "nbconvert_exporter": "python",
   "pygments_lexer": "ipython2",
   "version": "2.7.6"
  }
 },
 "nbformat": 4,
 "nbformat_minor": 5
}
